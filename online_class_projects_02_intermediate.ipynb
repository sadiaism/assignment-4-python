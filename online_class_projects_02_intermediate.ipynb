{
  "nbformat": 4,
  "nbformat_minor": 0,
  "metadata": {
    "colab": {
      "provenance": [],
      "authorship_tag": "ABX9TyOrAT3BUb7cm/3XAwFCuiQl",
      "include_colab_link": true
    },
    "kernelspec": {
      "name": "python3",
      "display_name": "Python 3"
    },
    "language_info": {
      "name": "python"
    }
  },
  "cells": [
    {
      "cell_type": "markdown",
      "metadata": {
        "id": "view-in-github",
        "colab_type": "text"
      },
      "source": [
        "<a href=\"https://colab.research.google.com/github/sadiaism/assignment-4-python/blob/main/online_class_projects_02_intermediate.ipynb\" target=\"_parent\"><img src=\"https://colab.research.google.com/assets/colab-badge.svg\" alt=\"Open In Colab\"/></a>"
      ]
    },
    {
      "cell_type": "code",
      "execution_count": null,
      "metadata": {
        "colab": {
          "base_uri": "https://localhost:8080/"
        },
        "id": "7rw4nWWK3HUs",
        "outputId": "d768f3af-6a92-44a5-af3d-8edbe93b73ed"
      },
      "outputs": [
        {
          "output_type": "stream",
          "name": "stdout",
          "text": [
            "High Low Game\n",
            "Welcome to the High-Low Game!\n",
            "*****************************\n",
            "Round 1\n",
            "Your number is  84\n",
            "Do you think that your number is higher or lower than the computer_number?higher\n",
            "That is right! The computer number was 42\n",
            "Round 2\n",
            "Your number is  73\n",
            "Do you think that your number is higher or lower than the computer_number?higher\n",
            "That is right! The computer number was 29\n",
            "Round 3\n",
            "Your number is  18\n",
            "Do you think that your number is higher or lower than the computer_number?lower\n",
            "That is right! The computer number was 69\n",
            "Round 4\n",
            "Your number is  4\n",
            "Do you think that your number is higher or lower than the computer_number?lower\n",
            "That is right! The computer number was 13\n",
            "Round 5\n",
            "Your number is  67\n",
            "Do you think that your number is higher or lower than the computer_number?higher\n",
            "That is right! The computer number was 37\n"
          ]
        }
      ],
      "source": [
        "import random\n",
        "\n",
        "print(\"High Low Game\")\n",
        "\n",
        "round = 5\n",
        "\n",
        "def main():\n",
        "  print(\"Welcome to the High-Low Game!\")\n",
        "  print(\"*****************************\")\n",
        "\n",
        "  score = 0\n",
        "\n",
        "  for i in range(round):\n",
        "    print(\"Round\", i + 1)\n",
        "\n",
        "    computer_number:int = random.randint(1,100)\n",
        "    your_number:int = random.randint(1,100)\n",
        "    print(\"Your number is \", your_number)\n",
        "\n",
        "    choice:str = input(\"Do you think that your number is higher or lower than the computer_number?\")\n",
        "    higher_and_correct:bool = choice == \"higher\" and your_number > computer_number\n",
        "    lower_and_correct:bool = choice == \"lower\" and your_number < computer_number\n",
        "\n",
        "    if higher_and_correct or lower_and_correct:\n",
        "      print(\"That is right! The computer number was\", computer_number)\n",
        "      score += 1\n",
        "    else:\n",
        "      print(\"That is incorrect! The computer number was\", computer_number)\n",
        "\n",
        "      print(\"Your score is now\", score)\n",
        "      print()\n",
        "\n",
        "      print(\"Thanks for playing High Low Game!\")\n",
        "\n",
        "if __name__ == \"__main__\":\n",
        "  main()\n",
        "\n",
        "\n",
        "\n"
      ]
    },
    {
      "cell_type": "code",
      "source": [
        "print(\"Planetary Weight Calculator\")\n",
        "def main():\n",
        "  print(\"Welcome to the Planetry Weight Calculator\")\n",
        "  print(\"********************************\")\n",
        "\n",
        "earth_weight = float(input(\"Enter your weight on Earth!\"))\n",
        "\n",
        "gravity_ratios = {\n",
        "    \"Mercury\":0.30,\n",
        "    \"Venus\":0.91,\n",
        "    \"Mars\":0.38,\n",
        "    \"Jupiter\":2.36,\n",
        "    \"Saturn\":1.08,\n",
        "    \"Uranus\":0.81,\n",
        "    \"Neptune\":1.19\n",
        "}\n",
        "\n",
        "print(\"\\n Select a planet\")\n",
        "for planet in gravity_ratios:\n",
        "  print(f'- {planet}')\n",
        "\n",
        "planet_choice = input(\"Enter the name of the planet: \").title()\n",
        "\n",
        "if planet_choice in gravity_ratios:\n",
        "  new_weight = earth_weight * gravity_ratios[planet_choice]\n",
        "  print(f\"Your weight on planet choice is {new_weight:.2f}kg\")\n",
        "else:\n",
        "  print(\"Invalid planet choice\")\n",
        "\n",
        "if __name__ == \"__main__\":\n",
        "  main()\n",
        "\n"
      ],
      "metadata": {
        "colab": {
          "base_uri": "https://localhost:8080/"
        },
        "id": "-fT8qtm3-mZi",
        "outputId": "dba5b6ea-e3fa-4d17-b990-599a47bde1e4"
      },
      "execution_count": null,
      "outputs": [
        {
          "output_type": "stream",
          "name": "stdout",
          "text": [
            "Planetary Weight Calculator\n",
            "Enter your weight on Earth!44\n",
            "\n",
            " Select a planet\n",
            "- Mercury\n",
            "- Venus\n",
            "- Mars\n",
            "- Jupiter\n",
            "- Saturn\n",
            "- Uranus\n",
            "- Neptune\n",
            "Enter the name of the planet: venus\n",
            "Your weight on planet choice is 40.04kg\n",
            "Welcome to the Planetry Weight Calculator\n",
            "********************************\n"
          ]
        }
      ]
    },
    {
      "cell_type": "code",
      "source": [
        "print(\"Lists and Dicts\")\n",
        "\n",
        "my_list = [\"apple\",\"mango\",\"orange\",\"pear\",\"peach\"]\n",
        "\n",
        "def access_element(my_list,index):\n",
        "  \"\"\"Returns the element at the specified index, or an error message if out of range.\"\"\"\n",
        "  if 0 <= index < len(my_list):\n",
        "    return f'Element at index {index}: {my_list[index]}'\n",
        "  return \"Index out of range \"\n",
        "\n",
        "def modify_element(my_list,index,new_value):\n",
        "  \"\"\"Modifies the element at the specified index with the new value.\"\"\"\n",
        "  if 0 <= index < len(my_list):\n",
        "    old_value = my_list[index]\n",
        "    my_list[index] = new_value\n",
        "    return f\"Element at index {index} modified from {old_value} to {new_value}\"\n",
        "  return \"Index out of range\"\n",
        "\n",
        "def slice_list(my_list,start,end):\n",
        "  \"\"\"Returns a new list containing the elements from the start index to the end index (exclusive).\"\"\"\n",
        "  if 0 <= start < len(my_list) and 0 <= end <= len(my_list):\n",
        "    return f\"Sliced list: {my_list[start:end]}\"\n",
        "  return(\"Invalid slice indicated!\")\n",
        "\n",
        "def list_game():\n",
        "  print(\"\\n Welcome to the list manipulation\")\n",
        "\n",
        "my_list = [\"apple\",\"mango\",\"orange\",\"pear\",\"peach\"]\n",
        "while True:\n",
        "  print(\"Current list \", my_list)\n",
        "\n",
        "  print(\"Select an operation\")\n",
        "  print(\"1. Access Element\")\n",
        "  print(\"2. Modify Element\")\n",
        "  print(\"3. Slice list\")\n",
        "  print(\"4. Quit\")\n",
        "\n",
        "  choice = input(\"Enter your choice (1-4): \")\n",
        "\n",
        "  if choice == \"1\":\n",
        "      index = int(input(\"Enter the index of the element you want to access: \"))\n",
        "      print(access_element(my_list,index))\n",
        "  elif choice == \"2\":\n",
        "      index = int(input(\"Enter the index of the element you want to modify: \"))\n",
        "      new_value = input(\"Enter the new value for the element: \")\n",
        "      print(modify_element(my_list,index,new_value))\n",
        "  elif choice == \"3\":\n",
        "      start = int(input(\"Enter the start index for the slice: \"))\n",
        "      end = int(input(\"Enter the end index for the slice: \"))\n",
        "      print(slice_list(my_list,index,end))\n",
        "  elif choice == \"4\":\n",
        "      print(\"Existing the game, Thanks for playing.\")\n",
        "  else:\n",
        "      print(\"Invalid choice! please enter a number between 1 to 4.\")\n",
        "\n",
        "if __name__ == \"__main__\":\n",
        "  main()\n",
        "\n",
        "\n",
        "\n",
        "\n",
        "\n"
      ],
      "metadata": {
        "id": "qt1U0k-vCxdS"
      },
      "execution_count": null,
      "outputs": []
    }
  ]
}