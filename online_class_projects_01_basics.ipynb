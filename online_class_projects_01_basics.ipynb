{
  "nbformat": 4,
  "nbformat_minor": 0,
  "metadata": {
    "colab": {
      "provenance": [],
      "authorship_tag": "ABX9TyMcF6JS/TYUkmw1tKGYBuFa",
      "include_colab_link": true
    },
    "kernelspec": {
      "name": "python3",
      "display_name": "Python 3"
    },
    "language_info": {
      "name": "python"
    }
  },
  "cells": [
    {
      "cell_type": "markdown",
      "metadata": {
        "id": "view-in-github",
        "colab_type": "text"
      },
      "source": [
        "<a href=\"https://colab.research.google.com/github/sadiaism/assignment-4-python/blob/main/online_class_projects_01_basics.ipynb\" target=\"_parent\"><img src=\"https://colab.research.google.com/assets/colab-badge.svg\" alt=\"Open In Colab\"/></a>"
      ]
    },
    {
      "cell_type": "code",
      "execution_count": null,
      "metadata": {
        "colab": {
          "base_uri": "https://localhost:8080/"
        },
        "id": "GXeW9_q_i-MF",
        "outputId": "558ed68e-6ddf-4a30-c2ba-48b881ff4177"
      },
      "outputs": [
        {
          "output_type": "stream",
          "name": "stdout",
          "text": [
            "00_joke_bot\n",
            "What do you want?story\n",
            "No, I can only tell jokes\n"
          ]
        }
      ],
      "source": [
        "print(\"00_joke_bot\")\n",
        "\n",
        "PROMPT:str = \"What do you want?\"\n",
        "JOKE:str = \"Teacher: Why are you late? \\n Student: Sir, alarm ne bhi aaj chhutti le li thi. 😅\"\n",
        "SORRY:str = \"No, I can only tell jokes\"\n",
        "\n",
        "def main():\n",
        "  user_input = input(PROMPT)\n",
        "  user_input = user_input.strip().lower()\n",
        "\n",
        "  if \"joke\" in user_input:\n",
        "    print(JOKE)\n",
        "  else:\n",
        "    print(SORRY)\n",
        "\n",
        "if __name__ == \"__main__\":\n",
        "  main()\n"
      ]
    },
    {
      "cell_type": "code",
      "source": [
        "print(\"01_double_it\")\n",
        "\n",
        "def main():\n",
        "  print(\"Program double number!\")\n",
        "\n",
        "curr_value = int(input(\"Enter a number: \"))\n",
        "\n",
        "while curr_value < 100:\n",
        "  curr_value = curr_value * 2\n",
        "  print(curr_value)\n",
        "\n",
        "if __name__ == \"__main__\":\n",
        "  main()\n",
        "\n"
      ],
      "metadata": {
        "colab": {
          "base_uri": "https://localhost:8080/"
        },
        "id": "Ny0CiK7UmqzI",
        "outputId": "66a95b5f-ddda-466d-f97c-471f1ebf7bdd"
      },
      "execution_count": null,
      "outputs": [
        {
          "output_type": "stream",
          "name": "stdout",
          "text": [
            "01_double_it\n",
            "Enter a number: 5\n",
            "10\n",
            "20\n",
            "40\n",
            "80\n",
            "160\n",
            "Program double number!\n"
          ]
        }
      ]
    },
    {
      "cell_type": "code",
      "source": [
        "print(\"02_liftoff\")\n",
        "\n",
        "def main():\n",
        "\n",
        " i = 10\n",
        " while i > 0:\n",
        "  print(i)\n",
        "  i -= 1\n",
        "\n",
        "  print(\"Liftoff!\")\n",
        "\n",
        "if __name__ == \"__main__\":\n",
        "  main()"
      ],
      "metadata": {
        "colab": {
          "base_uri": "https://localhost:8080/"
        },
        "id": "Z8MPLDO1n0w6",
        "outputId": "ec4900f9-8534-4960-a55f-259ac6c991c0"
      },
      "execution_count": null,
      "outputs": [
        {
          "output_type": "stream",
          "name": "stdout",
          "text": [
            "02_liftoff\n",
            "10\n",
            "Liftoff!\n",
            "9\n",
            "Liftoff!\n",
            "8\n",
            "Liftoff!\n",
            "7\n",
            "Liftoff!\n",
            "6\n",
            "Liftoff!\n",
            "5\n",
            "Liftoff!\n",
            "4\n",
            "Liftoff!\n",
            "3\n",
            "Liftoff!\n",
            "2\n",
            "Liftoff!\n",
            "1\n",
            "Liftoff!\n"
          ]
        }
      ]
    },
    {
      "cell_type": "code",
      "source": [
        "print(\"03_guess_my_number\")\n",
        "\n",
        "import random\n",
        "\n",
        "def main():\n",
        "  number = random.randint(0,99)\n",
        "  print(\"I m thinking of a number between 0 and 99..\")\n",
        "\n",
        "  # user guess\n",
        "  guess = int(input(\"Enter a guess: \"))\n",
        "\n",
        "  while guess != number:\n",
        "    if guess < number:\n",
        "      print(\"Your guess is too low\")\n",
        "    else:\n",
        "      print(\"Your guess is too high\")\n",
        "\n",
        "    print()\n",
        "    guess = int(input(\"Enter a new guess: \"))\n",
        "  print(\"Congrats! The number was: \" + str(number))\n",
        "\n",
        "if __name__ == \"__main__\":\n",
        "  main()\n"
      ],
      "metadata": {
        "colab": {
          "base_uri": "https://localhost:8080/"
        },
        "id": "8xlbfXW1pE7B",
        "outputId": "02cd1902-b673-4a0c-cd92-3429482c11ca"
      },
      "execution_count": null,
      "outputs": [
        {
          "output_type": "stream",
          "name": "stdout",
          "text": [
            "03_guess_my_number\n",
            "I m thinking of a number between 0 and 99..\n",
            "Enter a guess: 78\n",
            "Your guess is too high\n",
            "\n",
            "Enter a new guess: 65\n",
            "Your guess is too high\n",
            "\n",
            "Enter a new guess: 49\n",
            "Your guess is too high\n",
            "\n",
            "Enter a new guess: 30\n",
            "Your guess is too high\n",
            "\n",
            "Enter a new guess: 20\n",
            "Your guess is too low\n",
            "\n",
            "Enter a new guess: 25\n",
            "Your guess is too low\n",
            "\n",
            "Enter a new guess: 29\n",
            "Your guess is too high\n",
            "\n",
            "Enter a new guess: 27\n",
            "Congrats! The number was: 27\n"
          ]
        }
      ]
    },
    {
      "cell_type": "code",
      "source": [
        "print(\"04_random_numbers\")\n",
        "import random\n",
        "\n",
        "N_NUMBERS: int = 10\n",
        "MIN_VALUE: int = 1\n",
        "MAX_VALUE: int = 100\n",
        "\n",
        "def main():\n",
        "  for i in range(10):\n",
        "    print(random.randint(1,100),end = \" \")\n",
        "\n",
        "if __name__ == \"__main__\":\n",
        "  main()"
      ],
      "metadata": {
        "colab": {
          "base_uri": "https://localhost:8080/"
        },
        "id": "p2bSeYmWrjZP",
        "outputId": "114d12cc-9b9a-499c-d6a9-8e049ae4cfad"
      },
      "execution_count": null,
      "outputs": [
        {
          "output_type": "stream",
          "name": "stdout",
          "text": [
            "04_random_numbers\n",
            "66 79 30 51 49 80 69 85 55 30 "
          ]
        }
      ]
    }
  ]
}