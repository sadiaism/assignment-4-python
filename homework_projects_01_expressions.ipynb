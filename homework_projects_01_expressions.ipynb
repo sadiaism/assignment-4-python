{
  "nbformat": 4,
  "nbformat_minor": 0,
  "metadata": {
    "colab": {
      "provenance": [],
      "authorship_tag": "ABX9TyMANDI4u7gDIb6m6zPKXTEO",
      "include_colab_link": true
    },
    "kernelspec": {
      "name": "python3",
      "display_name": "Python 3"
    },
    "language_info": {
      "name": "python"
    }
  },
  "cells": [
    {
      "cell_type": "markdown",
      "metadata": {
        "id": "view-in-github",
        "colab_type": "text"
      },
      "source": [
        "<a href=\"https://colab.research.google.com/github/sadiaism/assignment-4-python/blob/main/homework_projects_01_expressions.ipynb\" target=\"_parent\"><img src=\"https://colab.research.google.com/assets/colab-badge.svg\" alt=\"Open In Colab\"/></a>"
      ]
    },
    {
      "cell_type": "code",
      "execution_count": 1,
      "metadata": {
        "colab": {
          "base_uri": "https://localhost:8080/"
        },
        "id": "ahnh4QuqenpA",
        "outputId": "472a7477-53e9-45b2-8458-078badda957a"
      },
      "outputs": [
        {
          "output_type": "stream",
          "name": "stdout",
          "text": [
            "01_dicesimulator\n",
            "die1 in main() starts as: 10\n",
            "Total of two dice: 9\n",
            "Total of two dice: 9\n",
            "Total of two dice: 6\n",
            "die1 in main() is: 10\n"
          ]
        }
      ],
      "source": [
        "print(\"01_dicesimulator\")\n",
        "def main():\n",
        "    print(\"Program: dicesimulator\")\n",
        "\n",
        "\n",
        "# Import the random library which lets us simulate random things like dice!\n",
        "import random\n",
        "\n",
        "# Number of sides on each die to roll\n",
        "NUM_SIDES = 6\n",
        "\n",
        "def roll_dice():\n",
        "    \"\"\"\n",
        "    Simulates rolling two dice and prints their total\n",
        "    \"\"\"\n",
        "    die1 : int = random.randint(1, NUM_SIDES)\n",
        "    die2 : int = random.randint(1, NUM_SIDES)\n",
        "    total : int = die1 + die2\n",
        "    print(\"Total of two dice:\", total)\n",
        "\n",
        "def main():\n",
        "    die1 : int = 10\n",
        "    print(\"die1 in main() starts as: \" + str(die1))\n",
        "    roll_dice()\n",
        "    roll_dice()\n",
        "    roll_dice()\n",
        "    print(\"die1 in main() is: \" + str(die1))\n",
        "\n",
        "\n",
        "if __name__ == '__main__':\n",
        "    main()"
      ]
    },
    {
      "cell_type": "code",
      "source": [
        "print(\"02_e=mc2\")\n",
        "\n",
        "C: int = 299792458  # The speed of light in m/s\n",
        "\n",
        "def main():\n",
        "    mass_in_kg: float = float(input(\"Enter kilos of mass: \"))\n",
        "\n",
        "# Calculate energy\n",
        "# equivalently energy = mass * (C ** 2)\n",
        "# using the ** operator to raise C to the power of 2\n",
        "    energy_in_joules: float = mass_in_kg * (C ** 2)\n",
        "\n",
        "# Display work to the user\n",
        "    print(\"e = m * C^2...\")\n",
        "    print(\"m = \" + str(mass_in_kg) + \"kg\")\n",
        "    print(\"C = \" + str(C) + \" m/s \")\n",
        "\n",
        "    print(str(energy_in_joules) + \" joules of energy!\")\n",
        "\n",
        "\n",
        "if __name__ == '__main__':\n",
        "    main()\n",
        "\n",
        "\n",
        "\n"
      ],
      "metadata": {
        "colab": {
          "base_uri": "https://localhost:8080/"
        },
        "id": "oL40A74cfMSV",
        "outputId": "16051041-7b7f-4b69-ca55-6f7ed8dc31b2"
      },
      "execution_count": 2,
      "outputs": [
        {
          "output_type": "stream",
          "name": "stdout",
          "text": [
            "02_e=mc2\n",
            "Enter kilos of mass: 45\n",
            "e = m * C^2...\n",
            "m = 45.0kg\n",
            "C = 299792458 m/s \n",
            "4.044398304315679e+18 joules of energy!\n"
          ]
        }
      ]
    },
    {
      "cell_type": "code",
      "source": [
        "print(\"03_feet_to_inches.\")\n",
        "\n",
        "def main():\n",
        "    print(\"feet to inches program!\")\n",
        "\n",
        "INCHES_IN_FOOT: int = 12  # Conversion factor. There are 12 inches for 1 foot.\n",
        "\n",
        "\n",
        "feet: float = float(input(\"Enter number of feet: \"))\n",
        "inches: float = feet * INCHES_IN_FOOT\n",
        "print(\"That is\", inches , \"inches!\")\n",
        "\n",
        "if __name__ == '__main__':\n",
        "    main()"
      ],
      "metadata": {
        "colab": {
          "base_uri": "https://localhost:8080/"
        },
        "id": "qvmRyOVyfYdP",
        "outputId": "3f7c79b0-5e61-46c2-8ab0-aeff3c671099"
      },
      "execution_count": 3,
      "outputs": [
        {
          "output_type": "stream",
          "name": "stdout",
          "text": [
            "03_feet_to_inches.\n",
            "Enter number of feet: 45\n",
            "That is 540.0 inches!\n",
            "feet to inches program!\n"
          ]
        }
      ]
    },
    {
      "cell_type": "code",
      "source": [
        "print(\"04_pythagorean_theorem.\")\n",
        "\n",
        "import math\n",
        "\n",
        "def main():\n",
        "    ab:float = float(input(\"Enter the length of AB: \"))\n",
        "    ac:float = float(input(\"Enter the length of AC: \"))\n",
        "\n",
        "    bc:float = math.sqrt(ab**2 + ac**2)\n",
        "    print(\"The length of BC (the hypotenuse) is: \" + str(bc))\n",
        "\n",
        "if __name__ == '__main__':\n",
        "    main()\n"
      ],
      "metadata": {
        "colab": {
          "base_uri": "https://localhost:8080/"
        },
        "id": "J2XQxqlSfjHR",
        "outputId": "5971c2b0-7f3e-4045-96bb-be93de2a137a"
      },
      "execution_count": 4,
      "outputs": [
        {
          "output_type": "stream",
          "name": "stdout",
          "text": [
            "04_pythagorean_theorem.\n",
            "Enter the length of AB: 21\n",
            "Enter the length of AC: 32\n",
            "The length of BC (the hypotenuse) is: 38.27531841800928\n"
          ]
        }
      ]
    },
    {
      "cell_type": "code",
      "source": [
        "print(\"05_remainder_division\")\n",
        "\n",
        "def main():\n",
        "    dividend: int = int(input(\"Please enter an integer to be divided: \"))\n",
        "    divisor: int = int(input(\"Please enter an integer to be divide by: \"))\n",
        "\n",
        "    qoutient :int = dividend // divisor\n",
        "    remainder :int = dividend % divisor\n",
        "\n",
        "    print(\"The result of this division is \" + str(qoutient) + \" with a remainder of \" + str(remainder))\n",
        "\n",
        "\n",
        "# There is no need to edit code beyond this point\n",
        "\n",
        "if __name__ == '__main__':\n",
        "    main()"
      ],
      "metadata": {
        "colab": {
          "base_uri": "https://localhost:8080/"
        },
        "id": "3UyGWmppfvHj",
        "outputId": "07516fe1-f777-46c8-d841-0d476a62aec2"
      },
      "execution_count": 5,
      "outputs": [
        {
          "output_type": "stream",
          "name": "stdout",
          "text": [
            "05_remainder_division\n",
            "Please enter an integer to be divided: 4\n",
            "Please enter an integer to be divide by: 5\n",
            "The result of this division is 0 with a remainder of 4\n"
          ]
        }
      ]
    },
    {
      "cell_type": "code",
      "source": [
        "print(\"06_rolldice\")\n",
        "def main():\n",
        "    print(\"Rolling dice program!\")\n",
        "\n",
        "import random\n",
        "\n",
        "NUM_SIDES : int = 6\n",
        "\n",
        "def main():\n",
        "    # Roll die\n",
        "    die1: int = random.randint(1, NUM_SIDES)\n",
        "    die2: int = random.randint(1, NUM_SIDES)\n",
        "\n",
        "    # Total\n",
        "    total: int = die1 + die2\n",
        "\n",
        "    # print the results\n",
        "    print(\"Dice have\", NUM_SIDES, \"sides each\")\n",
        "    print(\"First die:\", die1)\n",
        "    print(\"Second die:\", die2)\n",
        "    print(\"Total of two dice:\", total)\n",
        "\n",
        "\n",
        "if __name__ == '__main__':\n",
        "    main()"
      ],
      "metadata": {
        "colab": {
          "base_uri": "https://localhost:8080/"
        },
        "id": "4HQbfy07f6kO",
        "outputId": "c356a18b-bbf9-4aa3-97ae-9e117ad7a9b4"
      },
      "execution_count": 6,
      "outputs": [
        {
          "output_type": "stream",
          "name": "stdout",
          "text": [
            "06_rolldice\n",
            "Dice have 6 sides each\n",
            "First die: 6\n",
            "Second die: 5\n",
            "Total of two dice: 11\n"
          ]
        }
      ]
    },
    {
      "cell_type": "code",
      "source": [
        "print(\"06_seconds_in_year.\")\n",
        "\n",
        "# Useful constants to help make the math easier and cleaner!\n",
        "DAYS_PER_YEAR: int = 365\n",
        "HOURS_PER_DAY: int = 24\n",
        "MIN_PER_HOUR: int = 60\n",
        "SEC_PER_MIN: int = 60\n",
        "\n",
        "\n",
        "\n",
        "def main():\n",
        "    print(\"There are \" + str(DAYS_PER_YEAR * HOURS_PER_DAY * MIN_PER_HOUR * SEC_PER_MIN), \" seconds in a year!\")\n",
        "\n",
        "\n",
        "if __name__ == '__main__':\n",
        "    main()\n",
        "\n"
      ],
      "metadata": {
        "colab": {
          "base_uri": "https://localhost:8080/"
        },
        "id": "mLNrmE2LgEDV",
        "outputId": "1a965979-b44b-40ec-c54f-9fad8091c044"
      },
      "execution_count": 7,
      "outputs": [
        {
          "output_type": "stream",
          "name": "stdout",
          "text": [
            "06_seconds_in_year.\n",
            "There are 31536000  seconds in a year!\n"
          ]
        }
      ]
    },
    {
      "cell_type": "code",
      "source": [
        "print(\"07_tiny_mad_lib\")\n",
        "\n",
        "SENTENCE_START: str = \"Panaversity is fun. I learned to program and used Python to make my \" # adjective noun verb\n",
        "\n",
        "def main():\n",
        "    adjective:str = input(\"Please type an adjective and press enter. \")\n",
        "    noun : str = input(\"Please type a noun and press enter. \")\n",
        "    verb : str = input(\"Please type a verb and press enter. \")\n",
        "\n",
        "    print(SENTENCE_START + adjective + \" \" + noun + \" \" + verb + \"!\")\n",
        "\n",
        "if __name__ == '__main__':\n",
        "    main()"
      ],
      "metadata": {
        "colab": {
          "base_uri": "https://localhost:8080/"
        },
        "id": "7O0DPLhQgOel",
        "outputId": "5f2af2f6-613c-47d7-b416-d50ac0ac951e"
      },
      "execution_count": 8,
      "outputs": [
        {
          "output_type": "stream",
          "name": "stdout",
          "text": [
            "07_tiny_mad_lib\n",
            "Please type an adjective and press enter. nice\n",
            "Please type a noun and press enter. sadai\n",
            "Please type a verb and press enter. found\n",
            "Panaversity is fun. I learned to program and used Python to make my nice sadai found!\n"
          ]
        }
      ]
    }
  ]
}