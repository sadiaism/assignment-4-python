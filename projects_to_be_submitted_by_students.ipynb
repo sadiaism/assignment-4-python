{
  "nbformat": 4,
  "nbformat_minor": 0,
  "metadata": {
    "colab": {
      "provenance": [],
      "authorship_tag": "ABX9TyNODezHg5flCRMAfmqzOMNl",
      "include_colab_link": true
    },
    "kernelspec": {
      "name": "python3",
      "display_name": "Python 3"
    },
    "language_info": {
      "name": "python"
    }
  },
  "cells": [
    {
      "cell_type": "markdown",
      "metadata": {
        "id": "view-in-github",
        "colab_type": "text"
      },
      "source": [
        "<a href=\"https://colab.research.google.com/github/sadiaism/assignment-4-python/blob/main/projects_to_be_submitted_by_students.ipynb\" target=\"_parent\"><img src=\"https://colab.research.google.com/assets/colab-badge.svg\" alt=\"Open In Colab\"/></a>"
      ]
    },
    {
      "cell_type": "code",
      "execution_count": 2,
      "metadata": {
        "colab": {
          "base_uri": "https://localhost:8080/"
        },
        "id": "tEXOpzP5HhMo",
        "outputId": "db870a75-5ebf-4cb9-ba25-f7fcbc4df827"
      },
      "outputs": [
        {
          "output_type": "stream",
          "name": "stdout",
          "text": [
            "Project 1: Mad libs Python Project\n",
            "Enter Your Name sadia\n",
            "Enter Your City karachi\n",
            "Enter verb found\n",
            "Enter a animal name cat\n",
            "Enter the adjective nice\n",
            "In karachi, sadia found a nice cat near his house. He picked it up and took it home with joy.\n"
          ]
        }
      ],
      "source": [
        "print(\"Project 1: Mad libs Python Project\")\n",
        "\n",
        "def mad_lib():\n",
        "\n",
        "  name = str(input(\"Enter Your Name \"))\n",
        "  city = str(input(\"Enter Your City \"))\n",
        "  verb = str(input(\"Enter verb \"))\n",
        "  animal = str(input(\"Enter a animal name \"))\n",
        "  adjective = str(input(\"Enter the adjective \"))\n",
        "\n",
        "  story = f\"In {city}, {name} {verb} a {adjective} {animal} near his house. He picked it up and took it home with joy.\"\n",
        "\n",
        "  print(story)\n",
        "\n",
        "mad_lib()"
      ]
    },
    {
      "cell_type": "code",
      "source": [
        "print(\"Project 2: Guess the Number Game Python Project (computer)\")\n",
        "\n",
        "import random\n",
        "\n",
        "print(\"think number between 1 to 100\")\n",
        "\n",
        "user_input = int(input(\"Guess the number!\"))\n",
        "\n",
        "computer_num = random.randint(1,100)\n",
        "\n",
        "print(f\"The first guess of computer is: {computer_num}\")\n",
        "\n",
        "\n",
        "while True:\n",
        "\n",
        " feedback = input(\"Is this guess correct, too high, or too low?\")\n",
        "\n",
        "\n",
        "\n",
        " if feedback == \"correct\":\n",
        "    print(\"Yeah! 🎉 The guess number is correct.\")\n",
        "    break\n",
        " elif feedback == \"low\":\n",
        "    print(\"Too low!\")\n",
        "\n",
        " elif feedback == \"high\":\n",
        "    print(\"Too high!\")\n",
        "\n",
        " else:\n",
        "    print(\"Invalid input! Please enter only 'too high', 'too low', or 'correct'.\")\n",
        "\n",
        "    continue\n",
        "\n",
        " computer_num = random.randint(1,100)\n",
        " print(f\"The new guess of computer is: {computer_num}\")\n",
        "\n",
        "\n",
        "\n",
        "\n"
      ],
      "metadata": {
        "colab": {
          "base_uri": "https://localhost:8080/"
        },
        "id": "yVza6gdFITV2",
        "outputId": "54fbdc20-b6ca-439a-bcef-c3e870f5dff0"
      },
      "execution_count": 3,
      "outputs": [
        {
          "output_type": "stream",
          "name": "stdout",
          "text": [
            "Project 2: Guess the Number Game Python Project (computer)\n",
            "think number between 1 to 100\n",
            "Guess the number!98\n",
            "The first guess of computer is: 1\n",
            "Is this guess correct, too high, or too low?too high\n",
            "Invalid input! Please enter only 'too high', 'too low', or 'correct'.\n",
            "Is this guess correct, too high, or too low?correct\n",
            "Yeah! 🎉 The guess number is correct.\n"
          ]
        }
      ]
    },
    {
      "cell_type": "code",
      "source": [
        "print(\"Project 3: Guess the Number Game Python Project (user)\")\n",
        "\n",
        "import random\n",
        "\n",
        "print(\"A computer thought of a secret number, guess it.\")\n",
        "\n",
        "secret_number = random.randint(1,10)\n",
        "\n",
        "while True:\n",
        "    user_input = int(input(\"Guess any number between 1 to 10:\"))\n",
        "\n",
        "    if user_input == secret_number:\n",
        "        print(\"Yeah! 🎉 your guess number is correct\")\n",
        "        break\n",
        "    elif user_input < secret_number:\n",
        "        print(\"Think big!\")\n",
        "    elif user_input > secret_number:\n",
        "        print(\"Think small!\")\n"
      ],
      "metadata": {
        "colab": {
          "base_uri": "https://localhost:8080/"
        },
        "id": "m66hr4jtIyUU",
        "outputId": "17111ea4-c8e1-4053-96f2-f1b597fb69a4"
      },
      "execution_count": 4,
      "outputs": [
        {
          "output_type": "stream",
          "name": "stdout",
          "text": [
            "Project 3: Guess the Number Game Python Project (user)\n",
            "A computer thought of a secret number, guess it.\n",
            "Guess any number between 1 to 10:54\n",
            "Think small!\n",
            "Guess any number between 1 to 10:5\n",
            "Think big!\n",
            "Guess any number between 1 to 10:8\n",
            "Yeah! 🎉 your guess number is correct\n"
          ]
        }
      ]
    },
    {
      "cell_type": "code",
      "source": [
        "print(\"Project 4: Rock, paper, scissors Python Project\")\n",
        "\n",
        "import random\n",
        "\n",
        "choices = [\"rock\" , \"paper\", \"scissor\"]\n",
        "\n",
        "while True:\n",
        "    user_choice = input(\"Choose rock,paper or scissor:\").lower()\n",
        "\n",
        "    if user_choice not in choices:\n",
        "        print(\"Invalid choice!Please enter only choices in rock, paper and scissor.\")\n",
        "\n",
        "        continue\n",
        "\n",
        "    computer_choice = random.choice(choices)\n",
        "    print(f\"Computer choose: {computer_choice}\")\n",
        "\n",
        "    if user_choice == computer_choice:\n",
        "        print(\"Match Draw! Both choose the same\")\n",
        "    elif(user_choice == \"rock\" and computer_choice  == \"scissor\") or \\\n",
        "        (user_choice == \"paper\" and computer_choice == \"scissor\") or \\\n",
        "        (user_choice == \"scissor\" and computer_choice == \"paper\"):\n",
        "        print(\"You win! 🎉\")\n",
        "    else:\n",
        "        print(\"Computer Win! 😥\")\n",
        "\n",
        "\n",
        "    play_again = input(\"Do you want to play again? (yes/no):\").lower()\n",
        "    if play_again != \"yes\":\n",
        "        print(\"Thanks for playing!\")\n",
        "        break"
      ],
      "metadata": {
        "colab": {
          "base_uri": "https://localhost:8080/"
        },
        "id": "AObbWt50JGc7",
        "outputId": "596152d9-3288-4dc4-d473-928a7b452500"
      },
      "execution_count": 5,
      "outputs": [
        {
          "output_type": "stream",
          "name": "stdout",
          "text": [
            "Project 4: Rock, paper, scissors Python Project\n",
            "Choose rock,paper or scissor:rock\n",
            "Computer choose: paper\n",
            "Computer Win! 😥\n",
            "Do you want to play again? (yes/no):yes\n",
            "Choose rock,paper or scissor:scissor\n",
            "Computer choose: rock\n",
            "Computer Win! 😥\n",
            "Do you want to play again? (yes/no):no\n",
            "Thanks for playing!\n"
          ]
        }
      ]
    },
    {
      "cell_type": "code",
      "source": [
        "print(\"Project 5: Hangman Python Project\")\n",
        "\n",
        "import random\n",
        "\n",
        "words = [ \"python\", \"collab\", \"vscode\", \"game\"]\n",
        "\n",
        "word = random.choice(words)\n",
        "guessed_letters = []\n",
        "attempts = 6\n",
        "\n",
        "print(\"Welcome to the Hangman game!\")\n",
        "print(\"_ \" * len(word))\n",
        "\n",
        "while attempts > 0:\n",
        "    guess = input(\"\\n guess the letters: \").lower()\n",
        "\n",
        "    if len(guess) != 1 or not guess.isalpha():\n",
        "        print(\"Write one alphabet only!\")\n",
        "        continue\n",
        "    if guess in guessed_letters:\n",
        "        print(\"This letter is already guess choose another letter\")\n",
        "        continue\n",
        "    guessed_letters.append(guess)\n",
        "\n",
        "    if guess in word:\n",
        "        print(\"Correct guess! \")\n",
        "    else:\n",
        "        attempts -= 1\n",
        "        print(f\"Wrong {attempts} attempts.\")\n",
        "\n",
        "    displayed_word = \"\".join([letter if letter in guessed_letters else \"_\" for letter in word])\n",
        "\n",
        "    if \"_\" not in displayed_word:\n",
        "        print(f\"Congratulations! the correct word is : {word}\")\n",
        "        break\n",
        "    else:\n",
        "        print(f\"Game over! the correct word is: {word}\")"
      ],
      "metadata": {
        "colab": {
          "base_uri": "https://localhost:8080/"
        },
        "id": "66fbySSvJcET",
        "outputId": "ce0c4613-7a4e-4d77-aaa6-aa3de1087a30"
      },
      "execution_count": 6,
      "outputs": [
        {
          "output_type": "stream",
          "name": "stdout",
          "text": [
            "Project 5: Hangman Python Project\n",
            "Welcome to the Hangman game!\n",
            "_ _ _ _ _ _ \n",
            "\n",
            " guess the letters: h\n",
            "Correct guess! \n",
            "Game over! the correct word is: python\n",
            "\n",
            " guess the letters: p\n",
            "Correct guess! \n",
            "Game over! the correct word is: python\n",
            "\n",
            " guess the letters: c\n",
            "Wrong 5 attempts.\n",
            "Game over! the correct word is: python\n",
            "\n",
            " guess the letters: o\n",
            "Correct guess! \n",
            "Game over! the correct word is: python\n",
            "\n",
            " guess the letters: l\n",
            "Wrong 4 attempts.\n",
            "Game over! the correct word is: python\n",
            "\n",
            " guess the letters: l\n",
            "This letter is already guess choose another letter\n",
            "\n",
            " guess the letters: a\n",
            "Wrong 3 attempts.\n",
            "Game over! the correct word is: python\n",
            "\n",
            " guess the letters: b\n",
            "Wrong 2 attempts.\n",
            "Game over! the correct word is: python\n",
            "\n",
            " guess the letters: v\n",
            "Wrong 1 attempts.\n",
            "Game over! the correct word is: python\n",
            "\n",
            " guess the letters: s\n",
            "Wrong 0 attempts.\n",
            "Game over! the correct word is: python\n"
          ]
        }
      ]
    },
    {
      "cell_type": "code",
      "source": [
        "print(\"Project 6: Countdown Timer Python Project\")\n",
        "\n",
        "import time\n",
        "\n",
        "def countdown_timer(seconds):\n",
        "    while seconds > 0:\n",
        "        mins, secs = divmod(seconds, 60)   # min and sec are calculate\n",
        "        timer = '{:02d}:{:02d}'.format(mins, secs)\n",
        "\n",
        "        print(timer, end ='\\r') #\n",
        "\n",
        "        time.sleep(1)\n",
        "\n",
        "        seconds -= 1\n",
        "\n",
        "    print(\"00:00 \\n Time is up!\")\n",
        "\n",
        "total_seconds = int(input(\"Enter time in seconds: \"))\n",
        "countdown_timer(total_seconds)\n"
      ],
      "metadata": {
        "colab": {
          "base_uri": "https://localhost:8080/"
        },
        "id": "KzaYcnuyKC0x",
        "outputId": "4e967879-e5a0-40a5-9bbb-fb2999efc3c7"
      },
      "execution_count": 8,
      "outputs": [
        {
          "output_type": "stream",
          "name": "stdout",
          "text": [
            "Project 6: Countdown Timer Python Project\n",
            "Enter time in seconds: 5\n",
            "00:00 \n",
            " Time is up!\n"
          ]
        }
      ]
    },
    {
      "cell_type": "code",
      "source": [
        "print(\"Project 7: Password Generator Python Project\")\n",
        "\n",
        "import random\n",
        "\n",
        "print(\"Welcome to Your Password Generator\")\n",
        "\n",
        "chars = 'abcdefghijklmnopqrstuvwxyzABCDEFGHIJKLMNOPQRSTUVWXYZ!@#$%^&*(),.:0123456789'\n",
        "\n",
        "number = input(\"Amount of password you generate: \")\n",
        "number = int(number)\n",
        "\n",
        "length = input(\"Input your password length: \")\n",
        "length = int(length)\n",
        "\n",
        "print(\"\\Where are your passwords: \")\n",
        "\n",
        "for password in range(number):\n",
        "    passwords = \"\"\n",
        "    for c in range(length):\n",
        "        passwords += random.choice(chars)\n",
        "\n",
        "        print(passwords)\n"
      ],
      "metadata": {
        "colab": {
          "base_uri": "https://localhost:8080/"
        },
        "id": "Lg95HOuxKjfm",
        "outputId": "b914cb9e-a0a4-47ca-b3ff-b1d1153868a6"
      },
      "execution_count": 9,
      "outputs": [
        {
          "output_type": "stream",
          "name": "stdout",
          "text": [
            "Project 7: Password Generator Python Project\n",
            "Welcome to Your Password Generator\n",
            "Amount of password you generate: 2\n",
            "Input your password length: 4\n",
            "\\Where are your passwords: \n",
            "r\n",
            "r6\n",
            "r65\n",
            "r650\n",
            "A\n",
            "An\n",
            "AnO\n",
            "AnOk\n"
          ]
        }
      ]
    }
  ]
}