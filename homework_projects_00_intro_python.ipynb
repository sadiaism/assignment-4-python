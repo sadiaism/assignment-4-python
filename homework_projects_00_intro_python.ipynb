{
  "nbformat": 4,
  "nbformat_minor": 0,
  "metadata": {
    "colab": {
      "provenance": [],
      "authorship_tag": "ABX9TyO7bJ4yS/PIk52RURTuqfJe",
      "include_colab_link": true
    },
    "kernelspec": {
      "name": "python3",
      "display_name": "Python 3"
    },
    "language_info": {
      "name": "python"
    }
  },
  "cells": [
    {
      "cell_type": "markdown",
      "metadata": {
        "id": "view-in-github",
        "colab_type": "text"
      },
      "source": [
        "<a href=\"https://colab.research.google.com/github/sadiaism/assignment-4-python/blob/main/homework_projects_00_intro_python.ipynb\" target=\"_parent\"><img src=\"https://colab.research.google.com/assets/colab-badge.svg\" alt=\"Open In Colab\"/></a>"
      ]
    },
    {
      "cell_type": "code",
      "execution_count": null,
      "metadata": {
        "colab": {
          "base_uri": "https://localhost:8080/"
        },
        "id": "TZH2Kh8ng0kv",
        "outputId": "33c7b604-c4bc-4261-c5f4-7137199d1f02"
      },
      "outputs": [
        {
          "output_type": "stream",
          "name": "stdout",
          "text": [
            "01_add_two_numbers.\n",
            "Enter first number:4\n",
            "Enter second number:5\n",
            "The total is9.\n",
            "This program adds two numbers.\n"
          ]
        }
      ],
      "source": [
        "print(\"01_add_two_numbers.\")\n",
        "\n",
        "def main():\n",
        "\n",
        "   print(\"This program adds two numbers.\")\n",
        "\n",
        "# # Prompt the user to enter the first number.\n",
        "num1: str = input(\"Enter first number:\")\n",
        "\n",
        "# Read the input and convert it to an integer.\n",
        "num1 : int = int(num1)\n",
        "\n",
        "# Prompt the user to enter the second number.\n",
        "num2 : str = input(\"Enter second number:\")\n",
        "\n",
        "# Read the input and convert it to an integer.\n",
        "num2 : int = int(num2)\n",
        "\n",
        "# Calculate the sum of the two numbers.\n",
        "total :int = num1 + num2\n",
        "\n",
        "# Print the total sum with an appropriate message.\n",
        "print(\"The total is\" + str(total) + \".\")\n",
        "\n",
        "\n",
        "\n",
        "\n",
        "# This provided line is required at the end of\n",
        "# Python file to call the main() function.\n",
        "if __name__ == '__main__':\n",
        "    main()"
      ]
    },
    {
      "cell_type": "code",
      "source": [
        "print(\"02_agreement_bot.\")\n",
        "\n",
        "def main():\n",
        "    print(\"Animals!:\")\n",
        "\n",
        "# Ask user what your fav animal\n",
        "    animal = input(\"What is your favourite animal?\")\n",
        "\n",
        "# print your  favourite animal\n",
        "    print(f\"My favourite animal is also {animal}\")\n",
        "\n",
        "\n",
        "if __name__ == '__main__':\n",
        "    main()\n",
        "\n"
      ],
      "metadata": {
        "colab": {
          "base_uri": "https://localhost:8080/"
        },
        "id": "vNyOATYthOot",
        "outputId": "d147fb12-93f8-4f19-8f33-3809e15c4415"
      },
      "execution_count": null,
      "outputs": [
        {
          "output_type": "stream",
          "name": "stdout",
          "text": [
            "02_agreement_bot.\n",
            "Animals!:\n",
            "What is your favourite animal?cat\n",
            "My favourite animal is also cat\n"
          ]
        }
      ]
    },
    {
      "cell_type": "code",
      "source": [
        "print(\"03_fahrenheit_to_celsius\")\n",
        "\n",
        "def main():\n",
        "    print(\"Temprature in Fahrenheit! :\")\n",
        "\n",
        "# Enter temp in fahrenheit\n",
        "    fahrenheit = float(input(\"Enter the temprature in Fahrenheit: \"))\n",
        "\n",
        "# Equation converting fahrenheit to celsius\n",
        "    celsius = (fahrenheit - 32) * 5.0/9.0\n",
        "\n",
        "# print temprature into celsius\n",
        "    print(f\"Temprature: {fahrenheit}F = {celsius}C\")\n",
        "\n",
        "\n",
        "if __name__ == '__main__':\n",
        "    main()"
      ],
      "metadata": {
        "colab": {
          "base_uri": "https://localhost:8080/"
        },
        "id": "XrsMt7drhbJ5",
        "outputId": "cd4e894b-e6f9-4a1d-f2c6-eb850061bcca"
      },
      "execution_count": null,
      "outputs": [
        {
          "output_type": "stream",
          "name": "stdout",
          "text": [
            "03_fahrenheit_to_celsius\n",
            "Temprature in Fahrenheit! :\n",
            "Enter the temprature in Fahrenheit: 32\n",
            "Temprature: 32.0F = 0.0C\n"
          ]
        }
      ]
    },
    {
      "cell_type": "code",
      "source": [
        "print(\"04_how_old_are_they\")\n",
        "\n",
        "def main ():\n",
        "    print(\"Age related riddle program!\")\n",
        "\n",
        "\n",
        "    anton : int = 21  # Anton's age is given as 21 years old\n",
        "    beth : int = 6 + anton  # Beth is 6 years older than Anton, so add 6 to Anton's age to get Beth's\n",
        "    chen : int = 20 + beth  # Chen is 20 years older than Beth, so add 20 to Beth's age to get Chen's\n",
        "    drew  : int= chen + anton  # Drew is as old as Chen's age plus Anton's age, so add them together\n",
        "    ethan : int = chen  # Ethan is the same age as Chen, so set Ethan's age equal to Chen's\n",
        "\n",
        "   # Print out all of the ages!\n",
        "    print(\"Anton is \" + str(anton))\n",
        "    print(\"Beth is \" + str(beth))\n",
        "    print(\"Chen is \" + str(chen))\n",
        "    print(\"Drew is \" + str(drew))\n",
        "    print(\"Ethan is \" + str(ethan))\n",
        "\n",
        "\n",
        "if __name__ == '__main__':\n",
        "    main()"
      ],
      "metadata": {
        "colab": {
          "base_uri": "https://localhost:8080/"
        },
        "id": "0YJCefbGhlLG",
        "outputId": "c1c4b090-e3ed-484a-f7bb-df61445c877f"
      },
      "execution_count": null,
      "outputs": [
        {
          "output_type": "stream",
          "name": "stdout",
          "text": [
            "04_how_old_are_they\n",
            "Age related riddle program!\n",
            "Anton is 21\n",
            "Beth is 27\n",
            "Chen is 47\n",
            "Drew is 68\n",
            "Ethan is 47\n"
          ]
        }
      ]
    },
    {
      "cell_type": "code",
      "source": [
        "print(\"05_triangle_perimeter.\")\n",
        "\n",
        "def main():\n",
        "    print(\"The sum of all the side lengths!\")\n",
        "\n",
        "\n",
        "# Get the 3 side of the length of triangle\n",
        "\n",
        "side1 : float = float(input(\"What is the length of side 1?\"))\n",
        "side2 : float = float(input(\"What is the length of side 2?\"))\n",
        "side3 : float = float(input(\"What is the length of side 3?\"))\n",
        "\n",
        "# print the perimeter to sum of the side of the triangle\n",
        "\n",
        "print(\"The perimeter of the triangle is \" + str(side1 +side2 +side3))\n",
        "\n",
        "\n",
        "\n",
        "\n",
        "if __name__ == '__main__':\n",
        "    main()"
      ],
      "metadata": {
        "colab": {
          "base_uri": "https://localhost:8080/"
        },
        "id": "o6YZ7PDjhxAo",
        "outputId": "1f4ba65a-5265-414d-93ce-43ce8943f198"
      },
      "execution_count": null,
      "outputs": [
        {
          "name": "stdout",
          "output_type": "stream",
          "text": [
            "05_triangle_perimeter.\n",
            "What is the length of side 1?2\n",
            "What is the length of side 2?2\n"
          ]
        }
      ]
    },
    {
      "cell_type": "code",
      "source": [
        "print(\"06_square_number\")\n",
        "\n",
        "def main():\n",
        "    print(\"To see squared numbered program!\")\n",
        "\n",
        "# Enter the num to see its square\n",
        "    num: float = float(input(\"Type a number to see its square:\"))\n",
        "\n",
        "# print it\n",
        "    print(str(num) + \" squared is \" + str(num ** 2))\n",
        "\n",
        "\n",
        "if __name__ == '__main__':\n",
        "    main()"
      ],
      "metadata": {
        "colab": {
          "base_uri": "https://localhost:8080/"
        },
        "id": "KipBi4K0jeBi",
        "outputId": "dad09468-288b-474b-ac9b-2b01d2652f58"
      },
      "execution_count": 6,
      "outputs": [
        {
          "output_type": "stream",
          "name": "stdout",
          "text": [
            "06_square_number\n",
            "To see squared numbered program!\n",
            "Type a number to see its square:4\n",
            "4.0 squared is 16.0\n"
          ]
        }
      ]
    }
  ]
}